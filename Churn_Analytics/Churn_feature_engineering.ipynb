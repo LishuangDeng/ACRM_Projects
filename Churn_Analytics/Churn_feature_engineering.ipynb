{
 "cells": [
  {
   "cell_type": "code",
   "execution_count": 1,
   "metadata": {},
   "outputs": [],
   "source": [
    "# import the required packages\n",
    "import pandas as pd \n",
    "import numpy as np\n",
    "import random\n",
    "\n",
    "import matplotlib.pyplot as plt\n",
    "%matplotlib inline\n",
    "\n",
    "from sklearn.preprocessing import MinMaxScaler\n",
    "from sklearn.model_selection import train_test_split\n",
    "from sklearn.linear_model import LogisticRegression\n",
    "from sklearn.ensemble import RandomForestClassifier\n",
    "from sklearn.metrics import accuracy_score, roc_auc_score, roc_curve, recall_score, precision_score, confusion_matrix\n",
    "\n",
    "from datetime import datetime, timedelta\n",
    "\n",
    "import warnings\n",
    "warnings.filterwarnings('ignore')"
   ]
  },
  {
   "cell_type": "markdown",
   "metadata": {},
   "source": [
    "This is a fundrasing company.\n",
    "- Our goal is to predict individual **Churn rate**.\n",
    "We will divide this process into two mian parts: feature engineering and modelling\n",
    "\n",
    "- The frist step is to understand the data, we will use the tables below in this project.\n",
    "1. **Extrel**: All the donors of the organization                                     \n",
    "2. **Payhistory**: Payment history of each donor                                         \n",
    "3. **Communication**: All possible communication between the donor and the organization \n",
    "4. **Extrelty**: Description of the activity                                            \n",
    "5. **Nameaddr**: Socio-demographical information                                        \n",
    "6. **Commediu**: Description of medium type                                              \n",
    "7. **Commaint**: Description of the main topic code                                      \n",
    "8. **Comclas**: Description of the contact class                                        "
   ]
  },
  {
   "cell_type": "code",
   "execution_count": 2,
   "metadata": {},
   "outputs": [],
   "source": [
    "# import data\n",
    "comclas = pd.read_csv('./comclas.csv')\n",
    "commediu = pd.read_csv('./commediu.csv')\n",
    "communication = pd.read_csv('./communication.csv')\n",
    "extrel=pd.read_csv('./extrel.csv')\n",
    "extrelty = pd.read_csv('./extrelty.csv')\n",
    "nameaddr = pd.read_csv(\"./nameaddr.csv\")\n",
    "payhistory = pd.read_csv('./payhistory.csv')"
   ]
  },
  {
   "cell_type": "markdown",
   "metadata": {},
   "source": [
    "## Explore and clean data\n",
    "- inspire the table\n",
    "- convert datatype"
   ]
  },
  {
   "cell_type": "markdown",
   "metadata": {},
   "source": [
    "1.Table: comclas"
   ]
  },
  {
   "cell_type": "code",
   "execution_count": 3,
   "metadata": {},
   "outputs": [
    {
     "name": "stdout",
     "output_type": "stream",
     "text": [
      "CLASCODE    object\n",
      "CLASDESC    object\n",
      "dtype: object\n"
     ]
    },
    {
     "data": {
      "text/html": [
       "<div>\n",
       "<style scoped>\n",
       "    .dataframe tbody tr th:only-of-type {\n",
       "        vertical-align: middle;\n",
       "    }\n",
       "\n",
       "    .dataframe tbody tr th {\n",
       "        vertical-align: top;\n",
       "    }\n",
       "\n",
       "    .dataframe thead th {\n",
       "        text-align: right;\n",
       "    }\n",
       "</style>\n",
       "<table border=\"1\" class=\"dataframe\">\n",
       "  <thead>\n",
       "    <tr style=\"text-align: right;\">\n",
       "      <th></th>\n",
       "      <th>CLASCODE</th>\n",
       "      <th>CLASDESC</th>\n",
       "    </tr>\n",
       "  </thead>\n",
       "  <tbody>\n",
       "    <tr>\n",
       "      <th>0</th>\n",
       "      <td>CT</td>\n",
       "      <td>CTS-item</td>\n",
       "    </tr>\n",
       "    <tr>\n",
       "      <th>1</th>\n",
       "      <td>RI</td>\n",
       "      <td>Request for information</td>\n",
       "    </tr>\n",
       "    <tr>\n",
       "      <th>2</th>\n",
       "      <td>CM</td>\n",
       "      <td>Complaint</td>\n",
       "    </tr>\n",
       "    <tr>\n",
       "      <th>3</th>\n",
       "      <td>TA</td>\n",
       "      <td>Threath / Accusation</td>\n",
       "    </tr>\n",
       "    <tr>\n",
       "      <th>4</th>\n",
       "      <td>AK</td>\n",
       "      <td>Acknowledgement</td>\n",
       "    </tr>\n",
       "  </tbody>\n",
       "</table>\n",
       "</div>"
      ],
      "text/plain": [
       "  CLASCODE                 CLASDESC\n",
       "0       CT                 CTS-item\n",
       "1       RI  Request for information\n",
       "2       CM                Complaint\n",
       "3       TA     Threath / Accusation\n",
       "4       AK          Acknowledgement"
      ]
     },
     "execution_count": 3,
     "metadata": {},
     "output_type": "execute_result"
    }
   ],
   "source": [
    "# comclas : Description of the contact class\n",
    "print(comclas.dtypes)\n",
    "comclas.head()"
   ]
  },
  {
   "cell_type": "markdown",
   "metadata": {},
   "source": [
    "2. Table: commediu"
   ]
  },
  {
   "cell_type": "code",
   "execution_count": 4,
   "metadata": {},
   "outputs": [
    {
     "name": "stdout",
     "output_type": "stream",
     "text": [
      "MEDIUMCODE    object\n",
      "MEDIUMDESC    object\n",
      "dtype: object\n"
     ]
    },
    {
     "data": {
      "text/html": [
       "<div>\n",
       "<style scoped>\n",
       "    .dataframe tbody tr th:only-of-type {\n",
       "        vertical-align: middle;\n",
       "    }\n",
       "\n",
       "    .dataframe tbody tr th {\n",
       "        vertical-align: top;\n",
       "    }\n",
       "\n",
       "    .dataframe thead th {\n",
       "        text-align: right;\n",
       "    }\n",
       "</style>\n",
       "<table border=\"1\" class=\"dataframe\">\n",
       "  <thead>\n",
       "    <tr style=\"text-align: right;\">\n",
       "      <th></th>\n",
       "      <th>MEDIUMCODE</th>\n",
       "      <th>MEDIUMDESC</th>\n",
       "    </tr>\n",
       "  </thead>\n",
       "  <tbody>\n",
       "    <tr>\n",
       "      <th>0</th>\n",
       "      <td>FF</td>\n",
       "      <td>Face to Face contact</td>\n",
       "    </tr>\n",
       "    <tr>\n",
       "      <th>1</th>\n",
       "      <td>FX</td>\n",
       "      <td>Fax</td>\n",
       "    </tr>\n",
       "    <tr>\n",
       "      <th>2</th>\n",
       "      <td>TX</td>\n",
       "      <td>Telex</td>\n",
       "    </tr>\n",
       "    <tr>\n",
       "      <th>3</th>\n",
       "      <td>EM</td>\n",
       "      <td>Electronic Mail</td>\n",
       "    </tr>\n",
       "    <tr>\n",
       "      <th>4</th>\n",
       "      <td>TE</td>\n",
       "      <td>Telephone call</td>\n",
       "    </tr>\n",
       "  </tbody>\n",
       "</table>\n",
       "</div>"
      ],
      "text/plain": [
       "  MEDIUMCODE            MEDIUMDESC\n",
       "0         FF  Face to Face contact\n",
       "1         FX                   Fax\n",
       "2         TX                 Telex\n",
       "3         EM       Electronic Mail\n",
       "4         TE        Telephone call"
      ]
     },
     "execution_count": 4,
     "metadata": {},
     "output_type": "execute_result"
    }
   ],
   "source": [
    "# commediu : Description of medium type\n",
    "print(commediu.dtypes)\n",
    "commediu.head()"
   ]
  },
  {
   "cell_type": "markdown",
   "metadata": {},
   "source": [
    "3. Table: communication"
   ]
  },
  {
   "cell_type": "code",
   "execution_count": 5,
   "metadata": {},
   "outputs": [
    {
     "name": "stdout",
     "output_type": "stream",
     "text": [
      "CONTID         int64\n",
      "MEDIUMCODE    object\n",
      "MNTOPCODE     object\n",
      "CLASCODE      object\n",
      "EXTRELNO       int64\n",
      "CONTDIREC     object\n",
      "CONTDATE      object\n",
      "dtype: object\n"
     ]
    },
    {
     "data": {
      "text/html": [
       "<div>\n",
       "<style scoped>\n",
       "    .dataframe tbody tr th:only-of-type {\n",
       "        vertical-align: middle;\n",
       "    }\n",
       "\n",
       "    .dataframe tbody tr th {\n",
       "        vertical-align: top;\n",
       "    }\n",
       "\n",
       "    .dataframe thead th {\n",
       "        text-align: right;\n",
       "    }\n",
       "</style>\n",
       "<table border=\"1\" class=\"dataframe\">\n",
       "  <thead>\n",
       "    <tr style=\"text-align: right;\">\n",
       "      <th></th>\n",
       "      <th>CONTID</th>\n",
       "      <th>MEDIUMCODE</th>\n",
       "      <th>MNTOPCODE</th>\n",
       "      <th>CLASCODE</th>\n",
       "      <th>EXTRELNO</th>\n",
       "      <th>CONTDIREC</th>\n",
       "      <th>CONTDATE</th>\n",
       "    </tr>\n",
       "  </thead>\n",
       "  <tbody>\n",
       "    <tr>\n",
       "      <th>0</th>\n",
       "      <td>405402</td>\n",
       "      <td>CI</td>\n",
       "      <td>CTS</td>\n",
       "      <td>CT</td>\n",
       "      <td>20</td>\n",
       "      <td>O</td>\n",
       "      <td>2007-05-06</td>\n",
       "    </tr>\n",
       "    <tr>\n",
       "      <th>1</th>\n",
       "      <td>430904</td>\n",
       "      <td>CI</td>\n",
       "      <td>CTS</td>\n",
       "      <td>CT</td>\n",
       "      <td>20</td>\n",
       "      <td>O</td>\n",
       "      <td>2007-06-11</td>\n",
       "    </tr>\n",
       "    <tr>\n",
       "      <th>2</th>\n",
       "      <td>592732</td>\n",
       "      <td>CI</td>\n",
       "      <td>CTS</td>\n",
       "      <td>CT</td>\n",
       "      <td>20</td>\n",
       "      <td>O</td>\n",
       "      <td>2007-10-18</td>\n",
       "    </tr>\n",
       "    <tr>\n",
       "      <th>3</th>\n",
       "      <td>593375</td>\n",
       "      <td>CI</td>\n",
       "      <td>CTS</td>\n",
       "      <td>CT</td>\n",
       "      <td>20</td>\n",
       "      <td>O</td>\n",
       "      <td>2007-10-18</td>\n",
       "    </tr>\n",
       "    <tr>\n",
       "      <th>4</th>\n",
       "      <td>618514</td>\n",
       "      <td>CI</td>\n",
       "      <td>CTS</td>\n",
       "      <td>CT</td>\n",
       "      <td>20</td>\n",
       "      <td>O</td>\n",
       "      <td>2007-11-25</td>\n",
       "    </tr>\n",
       "  </tbody>\n",
       "</table>\n",
       "</div>"
      ],
      "text/plain": [
       "   CONTID MEDIUMCODE MNTOPCODE CLASCODE  EXTRELNO CONTDIREC    CONTDATE\n",
       "0  405402         CI       CTS       CT        20         O  2007-05-06\n",
       "1  430904         CI       CTS       CT        20         O  2007-06-11\n",
       "2  592732         CI       CTS       CT        20         O  2007-10-18\n",
       "3  593375         CI       CTS       CT        20         O  2007-10-18\n",
       "4  618514         CI       CTS       CT        20         O  2007-11-25"
      ]
     },
     "execution_count": 5,
     "metadata": {},
     "output_type": "execute_result"
    }
   ],
   "source": [
    "#communication :All possible communication between the donor and the organization\n",
    "print(communication.dtypes)\n",
    "communication.head()"
   ]
  },
  {
   "cell_type": "code",
   "execution_count": 6,
   "metadata": {},
   "outputs": [
    {
     "name": "stdout",
     "output_type": "stream",
     "text": [
      "CONTID                 int64\n",
      "MEDIUMCODE            object\n",
      "MNTOPCODE             object\n",
      "CLASCODE              object\n",
      "EXTRELNO               int64\n",
      "CONTDIREC             object\n",
      "CONTDATE      datetime64[ns]\n",
      "dtype: object\n"
     ]
    }
   ],
   "source": [
    "# Change the the datetime type\n",
    "communication['CONTDATE']=pd.to_datetime(communication['CONTDATE'],format='%Y-%m-%d')\n",
    "print(communication.dtypes)"
   ]
  },
  {
   "cell_type": "markdown",
   "metadata": {},
   "source": [
    "4. Table: extrel"
   ]
  },
  {
   "cell_type": "code",
   "execution_count": 7,
   "metadata": {},
   "outputs": [
    {
     "name": "stdout",
     "output_type": "stream",
     "text": [
      "EXTRELNO       int64\n",
      "EXRELACTCD    object\n",
      "EXTRELSTDT    object\n",
      "EXRELDATEN    object\n",
      "dtype: object\n"
     ]
    },
    {
     "data": {
      "text/html": [
       "<div>\n",
       "<style scoped>\n",
       "    .dataframe tbody tr th:only-of-type {\n",
       "        vertical-align: middle;\n",
       "    }\n",
       "\n",
       "    .dataframe tbody tr th {\n",
       "        vertical-align: top;\n",
       "    }\n",
       "\n",
       "    .dataframe thead th {\n",
       "        text-align: right;\n",
       "    }\n",
       "</style>\n",
       "<table border=\"1\" class=\"dataframe\">\n",
       "  <thead>\n",
       "    <tr style=\"text-align: right;\">\n",
       "      <th></th>\n",
       "      <th>EXTRELNO</th>\n",
       "      <th>EXRELACTCD</th>\n",
       "      <th>EXTRELSTDT</th>\n",
       "      <th>EXRELDATEN</th>\n",
       "    </tr>\n",
       "  </thead>\n",
       "  <tbody>\n",
       "    <tr>\n",
       "      <th>0</th>\n",
       "      <td>26414</td>\n",
       "      <td>CT</td>\n",
       "      <td>2008-01-30</td>\n",
       "      <td>NaT</td>\n",
       "    </tr>\n",
       "    <tr>\n",
       "      <th>1</th>\n",
       "      <td>26419</td>\n",
       "      <td>FP</td>\n",
       "      <td>2005-02-26</td>\n",
       "      <td>NaT</td>\n",
       "    </tr>\n",
       "    <tr>\n",
       "      <th>2</th>\n",
       "      <td>26424</td>\n",
       "      <td>FP</td>\n",
       "      <td>2005-02-26</td>\n",
       "      <td>2009-12-21</td>\n",
       "    </tr>\n",
       "    <tr>\n",
       "      <th>3</th>\n",
       "      <td>26430</td>\n",
       "      <td>FP</td>\n",
       "      <td>2005-02-26</td>\n",
       "      <td>2019-01-28</td>\n",
       "    </tr>\n",
       "    <tr>\n",
       "      <th>4</th>\n",
       "      <td>26430</td>\n",
       "      <td>CT</td>\n",
       "      <td>2010-03-04</td>\n",
       "      <td>NaT</td>\n",
       "    </tr>\n",
       "  </tbody>\n",
       "</table>\n",
       "</div>"
      ],
      "text/plain": [
       "   EXTRELNO EXRELACTCD  EXTRELSTDT  EXRELDATEN\n",
       "0     26414         CT  2008-01-30         NaT\n",
       "1     26419         FP  2005-02-26         NaT\n",
       "2     26424         FP  2005-02-26  2009-12-21\n",
       "3     26430         FP  2005-02-26  2019-01-28\n",
       "4     26430         CT  2010-03-04         NaT"
      ]
     },
     "execution_count": 7,
     "metadata": {},
     "output_type": "execute_result"
    }
   ],
   "source": [
    "#extrel  : All the donors of the organization\n",
    "print(extrel.dtypes)\n",
    "extrel.head()"
   ]
  },
  {
   "cell_type": "code",
   "execution_count": 8,
   "metadata": {},
   "outputs": [
    {
     "name": "stdout",
     "output_type": "stream",
     "text": [
      "EXTRELNO               int64\n",
      "EXRELACTCD            object\n",
      "EXTRELSTDT    datetime64[ns]\n",
      "EXRELDATEN    datetime64[ns]\n",
      "dtype: object\n",
      "The earliest time: 2002-10-29 00:00:00\n",
      "The latest time: 2020-01-29 00:00:00\n",
      "The earliest time: NaT\n",
      "The latest time: NaT\n"
     ]
    }
   ],
   "source": [
    "# Change the datetime\n",
    "extrel['EXTRELSTDT'] = pd.to_datetime(extrel['EXTRELSTDT'], format='%Y-%m-%d')\n",
    "extrel['EXRELDATEN'] = pd.to_datetime(extrel['EXRELDATEN'], format='%Y-%m-%d')\n",
    "print(extrel.dtypes)\n",
    "\n",
    "# check the earliest and latest register time\n",
    "print('The earliest time:',min(extrel['EXTRELSTDT']))\n",
    "print('The latest time:',max(extrel['EXTRELSTDT']))\n",
    "\n",
    "# check the earliest and latest end contract time\n",
    "print('The earliest time:',min(extrel['EXRELDATEN']))\n",
    "print('The latest time:',max(extrel['EXRELDATEN']))"
   ]
  },
  {
   "cell_type": "markdown",
   "metadata": {},
   "source": [
    "5. Table: extrelty"
   ]
  },
  {
   "cell_type": "code",
   "execution_count": 9,
   "metadata": {},
   "outputs": [
    {
     "name": "stdout",
     "output_type": "stream",
     "text": [
      "EXRELACTCD    object\n",
      "EXRELACTDE    object\n",
      "dtype: object\n"
     ]
    },
    {
     "data": {
      "text/html": [
       "<div>\n",
       "<style scoped>\n",
       "    .dataframe tbody tr th:only-of-type {\n",
       "        vertical-align: middle;\n",
       "    }\n",
       "\n",
       "    .dataframe tbody tr th {\n",
       "        vertical-align: top;\n",
       "    }\n",
       "\n",
       "    .dataframe thead th {\n",
       "        text-align: right;\n",
       "    }\n",
       "</style>\n",
       "<table border=\"1\" class=\"dataframe\">\n",
       "  <thead>\n",
       "    <tr style=\"text-align: right;\">\n",
       "      <th></th>\n",
       "      <th>EXRELACTCD</th>\n",
       "      <th>EXRELACTDE</th>\n",
       "    </tr>\n",
       "  </thead>\n",
       "  <tbody>\n",
       "    <tr>\n",
       "      <th>0</th>\n",
       "      <td>FP</td>\n",
       "      <td>CommitmentDo</td>\n",
       "    </tr>\n",
       "    <tr>\n",
       "      <th>1</th>\n",
       "      <td>PS</td>\n",
       "      <td>Prospect</td>\n",
       "    </tr>\n",
       "    <tr>\n",
       "      <th>2</th>\n",
       "      <td>PF</td>\n",
       "      <td>Prosp Fundra</td>\n",
       "    </tr>\n",
       "    <tr>\n",
       "      <th>3</th>\n",
       "      <td>PP</td>\n",
       "      <td>Prosp Promot</td>\n",
       "    </tr>\n",
       "    <tr>\n",
       "      <th>4</th>\n",
       "      <td>GR</td>\n",
       "      <td>Grantor</td>\n",
       "    </tr>\n",
       "  </tbody>\n",
       "</table>\n",
       "</div>"
      ],
      "text/plain": [
       "  EXRELACTCD    EXRELACTDE\n",
       "0         FP  CommitmentDo\n",
       "1         PS      Prospect\n",
       "2         PF  Prosp Fundra\n",
       "3         PP  Prosp Promot\n",
       "4         GR       Grantor"
      ]
     },
     "execution_count": 9,
     "metadata": {},
     "output_type": "execute_result"
    }
   ],
   "source": [
    "#extrelty : Description of the activity\n",
    "print(extrelty.dtypes)\n",
    "extrelty.head()"
   ]
  },
  {
   "cell_type": "markdown",
   "metadata": {},
   "source": [
    "6. Table: nameaddr"
   ]
  },
  {
   "cell_type": "code",
   "execution_count": 10,
   "metadata": {},
   "outputs": [
    {
     "name": "stdout",
     "output_type": "stream",
     "text": [
      "EXTRELNO       int64\n",
      "NAME1TITLE    object\n",
      "POSTCODE      object\n",
      "LANGUACODE    object\n",
      "dtype: object\n"
     ]
    },
    {
     "data": {
      "text/html": [
       "<div>\n",
       "<style scoped>\n",
       "    .dataframe tbody tr th:only-of-type {\n",
       "        vertical-align: middle;\n",
       "    }\n",
       "\n",
       "    .dataframe tbody tr th {\n",
       "        vertical-align: top;\n",
       "    }\n",
       "\n",
       "    .dataframe thead th {\n",
       "        text-align: right;\n",
       "    }\n",
       "</style>\n",
       "<table border=\"1\" class=\"dataframe\">\n",
       "  <thead>\n",
       "    <tr style=\"text-align: right;\">\n",
       "      <th></th>\n",
       "      <th>EXTRELNO</th>\n",
       "      <th>NAME1TITLE</th>\n",
       "      <th>POSTCODE</th>\n",
       "      <th>LANGUACODE</th>\n",
       "    </tr>\n",
       "  </thead>\n",
       "  <tbody>\n",
       "    <tr>\n",
       "      <th>0</th>\n",
       "      <td>19</td>\n",
       "      <td>HR</td>\n",
       "      <td>2500</td>\n",
       "      <td>NL</td>\n",
       "    </tr>\n",
       "    <tr>\n",
       "      <th>1</th>\n",
       "      <td>20</td>\n",
       "      <td>HR</td>\n",
       "      <td>9550</td>\n",
       "      <td>NL</td>\n",
       "    </tr>\n",
       "    <tr>\n",
       "      <th>2</th>\n",
       "      <td>35</td>\n",
       "      <td>HM</td>\n",
       "      <td>2150</td>\n",
       "      <td>NL</td>\n",
       "    </tr>\n",
       "    <tr>\n",
       "      <th>3</th>\n",
       "      <td>42</td>\n",
       "      <td>FA</td>\n",
       "      <td>3012</td>\n",
       "      <td>NL</td>\n",
       "    </tr>\n",
       "    <tr>\n",
       "      <th>4</th>\n",
       "      <td>43</td>\n",
       "      <td>MW</td>\n",
       "      <td>3000</td>\n",
       "      <td>NL</td>\n",
       "    </tr>\n",
       "  </tbody>\n",
       "</table>\n",
       "</div>"
      ],
      "text/plain": [
       "   EXTRELNO NAME1TITLE POSTCODE LANGUACODE\n",
       "0        19         HR     2500         NL\n",
       "1        20         HR     9550         NL\n",
       "2        35         HM     2150         NL\n",
       "3        42         FA     3012         NL\n",
       "4        43         MW     3000         NL"
      ]
     },
     "execution_count": 10,
     "metadata": {},
     "output_type": "execute_result"
    }
   ],
   "source": [
    "#nameaddr : Socio-demographical information\n",
    "print(nameaddr.dtypes)\n",
    "nameaddr.head()"
   ]
  },
  {
   "cell_type": "markdown",
   "metadata": {},
   "source": [
    "7. Table: payhistory"
   ]
  },
  {
   "cell_type": "code",
   "execution_count": 11,
   "metadata": {},
   "outputs": [
    {
     "name": "stdout",
     "output_type": "stream",
     "text": [
      "PID            int64\n",
      "PDATE         object\n",
      "PAMT         float64\n",
      "EXTRELNO       int64\n",
      "PAYTYPECD     object\n",
      "STATUS        object\n",
      "dtype: object\n"
     ]
    },
    {
     "data": {
      "text/html": [
       "<div>\n",
       "<style scoped>\n",
       "    .dataframe tbody tr th:only-of-type {\n",
       "        vertical-align: middle;\n",
       "    }\n",
       "\n",
       "    .dataframe tbody tr th {\n",
       "        vertical-align: top;\n",
       "    }\n",
       "\n",
       "    .dataframe thead th {\n",
       "        text-align: right;\n",
       "    }\n",
       "</style>\n",
       "<table border=\"1\" class=\"dataframe\">\n",
       "  <thead>\n",
       "    <tr style=\"text-align: right;\">\n",
       "      <th></th>\n",
       "      <th>PID</th>\n",
       "      <th>PDATE</th>\n",
       "      <th>PAMT</th>\n",
       "      <th>EXTRELNO</th>\n",
       "      <th>PAYTYPECD</th>\n",
       "      <th>STATUS</th>\n",
       "    </tr>\n",
       "  </thead>\n",
       "  <tbody>\n",
       "    <tr>\n",
       "      <th>0</th>\n",
       "      <td>38</td>\n",
       "      <td>2006-12-28</td>\n",
       "      <td>9.57</td>\n",
       "      <td>19</td>\n",
       "      <td>X</td>\n",
       "      <td>CO</td>\n",
       "    </tr>\n",
       "    <tr>\n",
       "      <th>1</th>\n",
       "      <td>39</td>\n",
       "      <td>2006-12-28</td>\n",
       "      <td>41.32</td>\n",
       "      <td>20</td>\n",
       "      <td>X</td>\n",
       "      <td>CO</td>\n",
       "    </tr>\n",
       "    <tr>\n",
       "      <th>2</th>\n",
       "      <td>40</td>\n",
       "      <td>2006-12-28</td>\n",
       "      <td>13.10</td>\n",
       "      <td>20</td>\n",
       "      <td>X</td>\n",
       "      <td>CO</td>\n",
       "    </tr>\n",
       "    <tr>\n",
       "      <th>3</th>\n",
       "      <td>54091</td>\n",
       "      <td>2006-12-29</td>\n",
       "      <td>2.02</td>\n",
       "      <td>20</td>\n",
       "      <td>X</td>\n",
       "      <td>CO</td>\n",
       "    </tr>\n",
       "    <tr>\n",
       "      <th>4</th>\n",
       "      <td>104480</td>\n",
       "      <td>2007-05-16</td>\n",
       "      <td>0.50</td>\n",
       "      <td>20</td>\n",
       "      <td>D</td>\n",
       "      <td>OK</td>\n",
       "    </tr>\n",
       "  </tbody>\n",
       "</table>\n",
       "</div>"
      ],
      "text/plain": [
       "      PID       PDATE   PAMT  EXTRELNO PAYTYPECD STATUS\n",
       "0      38  2006-12-28   9.57        19         X     CO\n",
       "1      39  2006-12-28  41.32        20         X     CO\n",
       "2      40  2006-12-28  13.10        20         X     CO\n",
       "3   54091  2006-12-29   2.02        20         X     CO\n",
       "4  104480  2007-05-16   0.50        20         D     OK"
      ]
     },
     "execution_count": 11,
     "metadata": {},
     "output_type": "execute_result"
    }
   ],
   "source": [
    "#payhistory : Payment history of each donor\n",
    "print(payhistory.dtypes)\n",
    "payhistory.head()"
   ]
  },
  {
   "cell_type": "code",
   "execution_count": 12,
   "metadata": {},
   "outputs": [
    {
     "name": "stdout",
     "output_type": "stream",
     "text": [
      "PID                   int64\n",
      "PDATE        datetime64[ns]\n",
      "PAMT                float64\n",
      "EXTRELNO              int64\n",
      "PAYTYPECD            object\n",
      "STATUS               object\n",
      "dtype: object\n",
      "The earliest time: 2006-12-28 00:00:00\n",
      "The latest time: 2020-01-21 00:00:00\n"
     ]
    }
   ],
   "source": [
    "# Change the datetime \n",
    "payhistory['PDATE']=pd.to_datetime(payhistory['PDATE'],format='%Y-%m-%d')\n",
    "print(payhistory.dtypes)\n",
    "# check the earliest and latest time\n",
    "print('The earliest time:',min(payhistory['PDATE']))\n",
    "print('The latest time:',max(payhistory['PDATE']))"
   ]
  },
  {
   "cell_type": "markdown",
   "metadata": {},
   "source": [
    "## Feature engineering"
   ]
  },
  {
   "cell_type": "markdown",
   "metadata": {},
   "source": [
    "1. Define the time window\n",
    "2. Define the active customers\n",
    "3. Define the churn customers\n",
    "4. Build up some useful features"
   ]
  },
  {
   "cell_type": "markdown",
   "metadata": {},
   "source": [
    "### 1. Define the time window"
   ]
  },
  {
   "cell_type": "markdown",
   "metadata": {},
   "source": [
    "- Assume the churn marketing campaign will be implement in the entire year(2025/01/01 - 2025/12/31)\n",
    "- We build up the model today(2024/10/30) and the past payhistory data is from 2006-12-08 to 2020-01-21.\n",
    "\n",
    "\n",
    "Implementing Purpose Model\n",
    "\n",
    "----------INDEPENDENT---------|xxxxGAPxxxxxx|----------DEPENDENT---------|\n",
    "-                       30/10/2024       01/01/2025              31/12/2025\n",
    "\n",
    "Model Building\n",
    "\n",
    "------------INDEPENDENT----------|xxxxGAPxxxxxx|------DEPENDENT-------|\n",
    "-                          30/10/2018    01/01/2019             31/12/2019\n"
   ]
  },
  {
   "cell_type": "code",
   "execution_count": 13,
   "metadata": {},
   "outputs": [],
   "source": [
    "# Define the time window (model building)\n",
    "end_independent = datetime.strptime('30/10/2018', '%d/%m/%Y')\n",
    "start_dependent = datetime.strptime('01/01/2019', '%d/%m/%Y')\n",
    "end_dependent = datetime.strptime('31/12/2019', '%d/%m/%Y')"
   ]
  },
  {
   "cell_type": "markdown",
   "metadata": {},
   "source": [
    "### 2. Define the active customers"
   ]
  },
  {
   "cell_type": "code",
   "execution_count": 14,
   "metadata": {},
   "outputs": [
    {
     "data": {
      "text/html": [
       "<div>\n",
       "<style scoped>\n",
       "    .dataframe tbody tr th:only-of-type {\n",
       "        vertical-align: middle;\n",
       "    }\n",
       "\n",
       "    .dataframe tbody tr th {\n",
       "        vertical-align: top;\n",
       "    }\n",
       "\n",
       "    .dataframe thead th {\n",
       "        text-align: right;\n",
       "    }\n",
       "</style>\n",
       "<table border=\"1\" class=\"dataframe\">\n",
       "  <thead>\n",
       "    <tr style=\"text-align: right;\">\n",
       "      <th></th>\n",
       "      <th>EXTRELNO</th>\n",
       "      <th>EXRELACTCD</th>\n",
       "      <th>EXTRELSTDT</th>\n",
       "      <th>EXRELDATEN</th>\n",
       "    </tr>\n",
       "  </thead>\n",
       "  <tbody>\n",
       "    <tr>\n",
       "      <th>0</th>\n",
       "      <td>26414</td>\n",
       "      <td>CT</td>\n",
       "      <td>2008-01-30</td>\n",
       "      <td>NaT</td>\n",
       "    </tr>\n",
       "    <tr>\n",
       "      <th>1</th>\n",
       "      <td>26419</td>\n",
       "      <td>FP</td>\n",
       "      <td>2005-02-26</td>\n",
       "      <td>NaT</td>\n",
       "    </tr>\n",
       "    <tr>\n",
       "      <th>3</th>\n",
       "      <td>26430</td>\n",
       "      <td>FP</td>\n",
       "      <td>2005-02-26</td>\n",
       "      <td>2019-01-28</td>\n",
       "    </tr>\n",
       "    <tr>\n",
       "      <th>4</th>\n",
       "      <td>26430</td>\n",
       "      <td>CT</td>\n",
       "      <td>2010-03-04</td>\n",
       "      <td>NaT</td>\n",
       "    </tr>\n",
       "    <tr>\n",
       "      <th>5</th>\n",
       "      <td>26431</td>\n",
       "      <td>FP</td>\n",
       "      <td>2005-02-26</td>\n",
       "      <td>NaT</td>\n",
       "    </tr>\n",
       "  </tbody>\n",
       "</table>\n",
       "</div>"
      ],
      "text/plain": [
       "   EXTRELNO EXRELACTCD EXTRELSTDT EXRELDATEN\n",
       "0     26414         CT 2008-01-30        NaT\n",
       "1     26419         FP 2005-02-26        NaT\n",
       "3     26430         FP 2005-02-26 2019-01-28\n",
       "4     26430         CT 2010-03-04        NaT\n",
       "5     26431         FP 2005-02-26        NaT"
      ]
     },
     "execution_count": 14,
     "metadata": {},
     "output_type": "execute_result"
    }
   ],
   "source": [
    "# \"EXTRELNO\" = userid\n",
    "# define the active customers who started contract before the end of independent period and ended after dependent period or haven't ended yet.\n",
    "active_customers = extrel[(extrel['EXTRELSTDT']<=end_independent) & (((extrel['EXRELDATEN']>=start_dependent)&(extrel['EXRELDATEN']<=end_dependent))|(extrel['EXRELDATEN'].isnull()))]\n",
    "active_customers.head()"
   ]
  },
  {
   "cell_type": "markdown",
   "metadata": {},
   "source": [
    "### 3. Define the Churn Customers"
   ]
  },
  {
   "cell_type": "code",
   "execution_count": 15,
   "metadata": {},
   "outputs": [
    {
     "data": {
      "text/html": [
       "<div>\n",
       "<style scoped>\n",
       "    .dataframe tbody tr th:only-of-type {\n",
       "        vertical-align: middle;\n",
       "    }\n",
       "\n",
       "    .dataframe tbody tr th {\n",
       "        vertical-align: top;\n",
       "    }\n",
       "\n",
       "    .dataframe thead th {\n",
       "        text-align: right;\n",
       "    }\n",
       "</style>\n",
       "<table border=\"1\" class=\"dataframe\">\n",
       "  <thead>\n",
       "    <tr style=\"text-align: right;\">\n",
       "      <th></th>\n",
       "      <th>EXTRELNO</th>\n",
       "      <th>EXRELACTCD</th>\n",
       "      <th>EXTRELSTDT</th>\n",
       "      <th>EXRELDATEN</th>\n",
       "      <th>Churn</th>\n",
       "    </tr>\n",
       "  </thead>\n",
       "  <tbody>\n",
       "    <tr>\n",
       "      <th>0</th>\n",
       "      <td>26414</td>\n",
       "      <td>CT</td>\n",
       "      <td>2008-01-30</td>\n",
       "      <td>NaT</td>\n",
       "      <td>0</td>\n",
       "    </tr>\n",
       "    <tr>\n",
       "      <th>1</th>\n",
       "      <td>26419</td>\n",
       "      <td>FP</td>\n",
       "      <td>2005-02-26</td>\n",
       "      <td>NaT</td>\n",
       "      <td>0</td>\n",
       "    </tr>\n",
       "    <tr>\n",
       "      <th>3</th>\n",
       "      <td>26430</td>\n",
       "      <td>FP</td>\n",
       "      <td>2005-02-26</td>\n",
       "      <td>2019-01-28</td>\n",
       "      <td>1</td>\n",
       "    </tr>\n",
       "    <tr>\n",
       "      <th>4</th>\n",
       "      <td>26430</td>\n",
       "      <td>CT</td>\n",
       "      <td>2010-03-04</td>\n",
       "      <td>NaT</td>\n",
       "      <td>0</td>\n",
       "    </tr>\n",
       "    <tr>\n",
       "      <th>5</th>\n",
       "      <td>26431</td>\n",
       "      <td>FP</td>\n",
       "      <td>2005-02-26</td>\n",
       "      <td>NaT</td>\n",
       "      <td>0</td>\n",
       "    </tr>\n",
       "  </tbody>\n",
       "</table>\n",
       "</div>"
      ],
      "text/plain": [
       "   EXTRELNO EXRELACTCD EXTRELSTDT EXRELDATEN  Churn\n",
       "0     26414         CT 2008-01-30        NaT      0\n",
       "1     26419         FP 2005-02-26        NaT      0\n",
       "3     26430         FP 2005-02-26 2019-01-28      1\n",
       "4     26430         CT 2010-03-04        NaT      0\n",
       "5     26431         FP 2005-02-26        NaT      0"
      ]
     },
     "execution_count": 15,
     "metadata": {},
     "output_type": "execute_result"
    }
   ],
   "source": [
    "# The custoemr who ended the contract during the dependent period\n",
    "# If \"EXRELDATEN\" is null, means this customer has not ended the contract yet. \n",
    "# Churn indicator 1, Non-churn indicator 0\n",
    "active_customers[\"Churn\"] = np.where(((active_customers[\"EXRELDATEN\"].isnull())|(active_customers[\"EXRELDATEN\"]>end_dependent)),0,1)\n",
    "active_customers.head()"
   ]
  },
  {
   "cell_type": "markdown",
   "metadata": {},
   "source": [
    "### 4. Building independent variables"
   ]
  },
  {
   "cell_type": "markdown",
   "metadata": {},
   "source": [
    "(1) Transaction table: payhistory"
   ]
  },
  {
   "cell_type": "markdown",
   "metadata": {},
   "source": [
    "RMF"
   ]
  },
  {
   "cell_type": "code",
   "execution_count": 16,
   "metadata": {},
   "outputs": [],
   "source": [
    "# RMF\n",
    "\n",
    "# extract the data corresponding to the time window \n",
    "pay_indep = payhistory[(payhistory['PDATE']<=end_independent)&(payhistory['PAMT']>0)]\n",
    "pay_dep = payhistory[((payhistory['PDATE']<=end_dependent)&(payhistory['PDATE']>=start_dependent))&(payhistory['PAMT']>0)]\n",
    "\n",
    "# Recency\n",
    "# recency = today-the last purchased date. Here we image that today is end of independent day(the day we started to build our model)\n",
    "Recency = (end_independent-pay_indep[['EXTRELNO','PDATE']].groupby('EXTRELNO')['PDATE'].max()).reset_index().rename(columns = {'PDATE':'Recency'})\n",
    "\n",
    "# Monetary\n",
    "# Monetary contains total monetary and average monetary\n",
    "Monetary = pay_indep[['EXTRELNO','PAMT']].groupby('EXTRELNO')['PAMT'].agg(['sum','mean']).reset_index().rename(columns={'sum':'Total_Monetary','mean':'Average_Monetary'})\n",
    "\n",
    "# Frequency\n",
    "Frequency = pay_indep[['EXTRELNO']].value_counts().reset_index().rename(columns={'count':'Frequency'})"
   ]
  },
  {
   "cell_type": "markdown",
   "metadata": {},
   "source": [
    "PAYTYPECD\n",
    "\n",
    "- O Bank transfer\n",
    "- D Permanent order\n",
    "- E Own initiative\n",
    "- X Unknown"
   ]
  },
  {
   "cell_type": "code",
   "execution_count": 17,
   "metadata": {},
   "outputs": [
    {
     "name": "stdout",
     "output_type": "stream",
     "text": [
      "PID              0\n",
      "PDATE            0\n",
      "PAMT             0\n",
      "EXTRELNO         0\n",
      "PAYTYPECD    10648\n",
      "STATUS           1\n",
      "dtype: int64\n"
     ]
    },
    {
     "data": {
      "text/html": [
       "<div>\n",
       "<style scoped>\n",
       "    .dataframe tbody tr th:only-of-type {\n",
       "        vertical-align: middle;\n",
       "    }\n",
       "\n",
       "    .dataframe tbody tr th {\n",
       "        vertical-align: top;\n",
       "    }\n",
       "\n",
       "    .dataframe thead th {\n",
       "        text-align: right;\n",
       "    }\n",
       "</style>\n",
       "<table border=\"1\" class=\"dataframe\">\n",
       "  <thead>\n",
       "    <tr style=\"text-align: right;\">\n",
       "      <th></th>\n",
       "      <th>EXTRELNO</th>\n",
       "      <th>used_order</th>\n",
       "      <th>used_initiative</th>\n",
       "      <th>used_bank</th>\n",
       "      <th>used_unknown</th>\n",
       "    </tr>\n",
       "  </thead>\n",
       "  <tbody>\n",
       "    <tr>\n",
       "      <th>0</th>\n",
       "      <td>19</td>\n",
       "      <td>0</td>\n",
       "      <td>0</td>\n",
       "      <td>0</td>\n",
       "      <td>1</td>\n",
       "    </tr>\n",
       "    <tr>\n",
       "      <th>1</th>\n",
       "      <td>20</td>\n",
       "      <td>138</td>\n",
       "      <td>0</td>\n",
       "      <td>0</td>\n",
       "      <td>4</td>\n",
       "    </tr>\n",
       "    <tr>\n",
       "      <th>2</th>\n",
       "      <td>35</td>\n",
       "      <td>138</td>\n",
       "      <td>0</td>\n",
       "      <td>0</td>\n",
       "      <td>2</td>\n",
       "    </tr>\n",
       "    <tr>\n",
       "      <th>3</th>\n",
       "      <td>42</td>\n",
       "      <td>81</td>\n",
       "      <td>0</td>\n",
       "      <td>0</td>\n",
       "      <td>3</td>\n",
       "    </tr>\n",
       "    <tr>\n",
       "      <th>4</th>\n",
       "      <td>43</td>\n",
       "      <td>221</td>\n",
       "      <td>0</td>\n",
       "      <td>0</td>\n",
       "      <td>6</td>\n",
       "    </tr>\n",
       "  </tbody>\n",
       "</table>\n",
       "</div>"
      ],
      "text/plain": [
       "   EXTRELNO  used_order  used_initiative  used_bank  used_unknown\n",
       "0        19           0                0          0             1\n",
       "1        20         138                0          0             4\n",
       "2        35         138                0          0             2\n",
       "3        42          81                0          0             3\n",
       "4        43         221                0          0             6"
      ]
     },
     "execution_count": 17,
     "metadata": {},
     "output_type": "execute_result"
    }
   ],
   "source": [
    "# check the null value in paytypecd\n",
    "print(pay_indep.isnull().sum())\n",
    "\n",
    "# fill in the null value as unknown type\n",
    "pay_indep['PAYTYPECD'] = pay_indep['PAYTYPECD'].fillna('X')\n",
    "\n",
    "# Get dummy values \n",
    "paytype = pd.get_dummies(pay_indep[['EXTRELNO','PAYTYPECD']],columns=['PAYTYPECD']).reset_index().rename(columns={'PAYTYPECD_D':'used_order','PAYTYPECD_E':'used_initiative','PAYTYPECD_O':'used_bank','PAYTYPECD_X':'used_unknown'}).drop(columns=['index'])\n",
    "\n",
    "# groupby userid and get the frequency of each payment type\n",
    "paytype = paytype.groupby('EXTRELNO').sum().reset_index()\n",
    "\n",
    "paytype.head()"
   ]
  },
  {
   "cell_type": "markdown",
   "metadata": {},
   "source": [
    "(2) Communication table"
   ]
  },
  {
   "cell_type": "code",
   "execution_count": 18,
   "metadata": {},
   "outputs": [],
   "source": [
    "# split the table based on the independent and dependent period\n",
    "communication_indep = communication[communication['CONTDATE']<=end_independent]\n",
    "communication_dep = communication[(communication['CONTDATE']>=start_dependent)&(communication['CONTDATE']<=end_dependent)]"
   ]
  },
  {
   "cell_type": "markdown",
   "metadata": {},
   "source": [
    "MEDIUMCODE : Medium of the contact\n",
    "- MEDIUMCODE description is in the commediu table"
   ]
  },
  {
   "cell_type": "code",
   "execution_count": 19,
   "metadata": {},
   "outputs": [
    {
     "name": "stdout",
     "output_type": "stream",
     "text": [
      "   MEDIUMCODE                     MEDIUMDESC\n",
      "0          FF           Face to Face contact\n",
      "1          FX                            Fax\n",
      "2          TX                          Telex\n",
      "3          EM                Electronic Mail\n",
      "4          TE                 Telephone call\n",
      "5          ES                   Express mail\n",
      "6          AM              Answering machine\n",
      "7          RM  Regular mail (CTS-items only)\n",
      "8          AF               Application form\n",
      "9          LE                        Letters\n",
      "10         ME                           Memo\n",
      "11         CA         Change of address card\n",
      "12         AC           Advertisement coupon\n",
      "13         MR                  Mail returned\n",
      "14        NaN              Newspaper article\n",
      "15         TM                     Translator\n"
     ]
    }
   ],
   "source": [
    "# inspire commediu table to see any interesting thing\n",
    "print(commediu)"
   ]
  },
  {
   "cell_type": "code",
   "execution_count": 73,
   "metadata": {},
   "outputs": [
    {
     "data": {
      "text/html": [
       "<div>\n",
       "<style scoped>\n",
       "    .dataframe tbody tr th:only-of-type {\n",
       "        vertical-align: middle;\n",
       "    }\n",
       "\n",
       "    .dataframe tbody tr th {\n",
       "        vertical-align: top;\n",
       "    }\n",
       "\n",
       "    .dataframe thead th {\n",
       "        text-align: right;\n",
       "    }\n",
       "</style>\n",
       "<table border=\"1\" class=\"dataframe\">\n",
       "  <thead>\n",
       "    <tr style=\"text-align: right;\">\n",
       "      <th></th>\n",
       "      <th>EXTRELNO</th>\n",
       "      <th>medium_cat_electronic</th>\n",
       "      <th>medium_cat_face_to_face</th>\n",
       "      <th>medium_cat_paper</th>\n",
       "      <th>medium_cat_unknown</th>\n",
       "    </tr>\n",
       "  </thead>\n",
       "  <tbody>\n",
       "    <tr>\n",
       "      <th>0</th>\n",
       "      <td>20</td>\n",
       "      <td>1</td>\n",
       "      <td>0</td>\n",
       "      <td>18</td>\n",
       "      <td>30</td>\n",
       "    </tr>\n",
       "    <tr>\n",
       "      <th>1</th>\n",
       "      <td>35</td>\n",
       "      <td>1</td>\n",
       "      <td>0</td>\n",
       "      <td>21</td>\n",
       "      <td>34</td>\n",
       "    </tr>\n",
       "    <tr>\n",
       "      <th>2</th>\n",
       "      <td>42</td>\n",
       "      <td>0</td>\n",
       "      <td>0</td>\n",
       "      <td>12</td>\n",
       "      <td>24</td>\n",
       "    </tr>\n",
       "    <tr>\n",
       "      <th>3</th>\n",
       "      <td>43</td>\n",
       "      <td>4</td>\n",
       "      <td>0</td>\n",
       "      <td>25</td>\n",
       "      <td>83</td>\n",
       "    </tr>\n",
       "    <tr>\n",
       "      <th>4</th>\n",
       "      <td>60</td>\n",
       "      <td>1</td>\n",
       "      <td>0</td>\n",
       "      <td>13</td>\n",
       "      <td>22</td>\n",
       "    </tr>\n",
       "  </tbody>\n",
       "</table>\n",
       "</div>"
      ],
      "text/plain": [
       "   EXTRELNO  medium_cat_electronic  medium_cat_face_to_face  medium_cat_paper  \\\n",
       "0        20                      1                        0                18   \n",
       "1        35                      1                        0                21   \n",
       "2        42                      0                        0                12   \n",
       "3        43                      4                        0                25   \n",
       "4        60                      1                        0                13   \n",
       "\n",
       "   medium_cat_unknown  \n",
       "0                  30  \n",
       "1                  34  \n",
       "2                  24  \n",
       "3                  83  \n",
       "4                  22  "
      ]
     },
     "execution_count": 73,
     "metadata": {},
     "output_type": "execute_result"
    }
   ],
   "source": [
    "# Based on description we can summary the communication mediums into three categories.\n",
    "# a. electronic (FX,TX,EM,TE,AM,TM)\n",
    "# b. face to face (FF)\n",
    "# c. papers(ES,RM,AF,LE,ME,CA,AC,MR,NaN)\n",
    "# d. CI is unknown\n",
    "\n",
    "# extract medium data\n",
    "medium = communication_indep[['EXTRELNO','MEDIUMCODE']]\n",
    "\n",
    "# define a category function\n",
    "def medium_category(a):\n",
    "    if a in [\"FX\",\"TX\",\"EM\",\"TE\",\"AM\",\"TM\"]:\n",
    "        return 'electronic'\n",
    "    elif a in [\"FF\"]:\n",
    "        return 'face_to_face'\n",
    "    elif a in [\"ES\",\"RM\",\"AF\",\"LE\",\"ME\",\"CA\",\"AC\",\"MR\",\"NaN\"]:\n",
    "        return'paper'\n",
    "    else:\n",
    "        return 'unknown'\n",
    "\n",
    "# Apply the function in mediumcode\n",
    "medium[\"medium_cat\"]=medium[\"MEDIUMCODE\"].apply(lambda x:medium_category(x))\n",
    "\n",
    "# get dummy variables in medium\n",
    "medium_cat = pd.get_dummies(medium[['EXTRELNO','medium_cat']],columns=['medium_cat']).reset_index().groupby('EXTRELNO').sum().reset_index().drop(columns=['index'])\n",
    "\n",
    "medium_cat.head()"
   ]
  },
  {
   "cell_type": "markdown",
   "metadata": {},
   "source": [
    "CLASCODE : Class of the contact\n",
    "- decription in the comclas table"
   ]
  },
  {
   "cell_type": "code",
   "execution_count": 21,
   "metadata": {},
   "outputs": [
    {
     "name": "stdout",
     "output_type": "stream",
     "text": [
      "  CLASCODE                 CLASDESC\n",
      "0       CT                 CTS-item\n",
      "1       RI  Request for information\n",
      "2       CM                Complaint\n",
      "3       TA     Threath / Accusation\n",
      "4       AK          Acknowledgement\n",
      "5       RM                 Reminder\n",
      "6       ID     Information delivery\n",
      "7       AN                   Answer\n"
     ]
    }
   ],
   "source": [
    "# show\n",
    "print(comclas)\n",
    "\n",
    "# Here we mainly identify complaint CM"
   ]
  },
  {
   "cell_type": "code",
   "execution_count": 22,
   "metadata": {},
   "outputs": [
    {
     "data": {
      "text/html": [
       "<div>\n",
       "<style scoped>\n",
       "    .dataframe tbody tr th:only-of-type {\n",
       "        vertical-align: middle;\n",
       "    }\n",
       "\n",
       "    .dataframe tbody tr th {\n",
       "        vertical-align: top;\n",
       "    }\n",
       "\n",
       "    .dataframe thead th {\n",
       "        text-align: right;\n",
       "    }\n",
       "</style>\n",
       "<table border=\"1\" class=\"dataframe\">\n",
       "  <thead>\n",
       "    <tr style=\"text-align: right;\">\n",
       "      <th></th>\n",
       "      <th>EXTRELNO</th>\n",
       "      <th>complaint</th>\n",
       "    </tr>\n",
       "  </thead>\n",
       "  <tbody>\n",
       "    <tr>\n",
       "      <th>0</th>\n",
       "      <td>20</td>\n",
       "      <td>0</td>\n",
       "    </tr>\n",
       "    <tr>\n",
       "      <th>1</th>\n",
       "      <td>35</td>\n",
       "      <td>0</td>\n",
       "    </tr>\n",
       "    <tr>\n",
       "      <th>2</th>\n",
       "      <td>42</td>\n",
       "      <td>0</td>\n",
       "    </tr>\n",
       "    <tr>\n",
       "      <th>3</th>\n",
       "      <td>43</td>\n",
       "      <td>0</td>\n",
       "    </tr>\n",
       "    <tr>\n",
       "      <th>4</th>\n",
       "      <td>60</td>\n",
       "      <td>0</td>\n",
       "    </tr>\n",
       "  </tbody>\n",
       "</table>\n",
       "</div>"
      ],
      "text/plain": [
       "   EXTRELNO  complaint\n",
       "0        20          0\n",
       "1        35          0\n",
       "2        42          0\n",
       "3        43          0\n",
       "4        60          0"
      ]
     },
     "execution_count": 22,
     "metadata": {},
     "output_type": "execute_result"
    }
   ],
   "source": [
    "# extract the data set\n",
    "complaint = communication_indep[['EXTRELNO','CLASCODE']]\n",
    "# set indicator\n",
    "complaint['complaint']=np.where(complaint['CLASCODE']=='CM',1,0)\n",
    "# calculate the number of complaint\n",
    "complaint = complaint.groupby('EXTRELNO')['complaint'].sum().reset_index()\n",
    "# show\n",
    "complaint.head()"
   ]
  },
  {
   "cell_type": "markdown",
   "metadata": {},
   "source": [
    "CONTDIREC: Direction of the communication\n",
    "- I Incoming\n",
    "- P Outgoing"
   ]
  },
  {
   "cell_type": "code",
   "execution_count": 23,
   "metadata": {},
   "outputs": [
    {
     "data": {
      "text/html": [
       "<div>\n",
       "<style scoped>\n",
       "    .dataframe tbody tr th:only-of-type {\n",
       "        vertical-align: middle;\n",
       "    }\n",
       "\n",
       "    .dataframe tbody tr th {\n",
       "        vertical-align: top;\n",
       "    }\n",
       "\n",
       "    .dataframe thead th {\n",
       "        text-align: right;\n",
       "    }\n",
       "</style>\n",
       "<table border=\"1\" class=\"dataframe\">\n",
       "  <thead>\n",
       "    <tr style=\"text-align: right;\">\n",
       "      <th></th>\n",
       "      <th>EXTRELNO</th>\n",
       "      <th>Incoming</th>\n",
       "      <th>Outgoing</th>\n",
       "    </tr>\n",
       "  </thead>\n",
       "  <tbody>\n",
       "    <tr>\n",
       "      <th>0</th>\n",
       "      <td>20</td>\n",
       "      <td>0</td>\n",
       "      <td>49</td>\n",
       "    </tr>\n",
       "    <tr>\n",
       "      <th>1</th>\n",
       "      <td>35</td>\n",
       "      <td>1</td>\n",
       "      <td>55</td>\n",
       "    </tr>\n",
       "    <tr>\n",
       "      <th>2</th>\n",
       "      <td>42</td>\n",
       "      <td>1</td>\n",
       "      <td>35</td>\n",
       "    </tr>\n",
       "    <tr>\n",
       "      <th>3</th>\n",
       "      <td>43</td>\n",
       "      <td>4</td>\n",
       "      <td>108</td>\n",
       "    </tr>\n",
       "    <tr>\n",
       "      <th>4</th>\n",
       "      <td>60</td>\n",
       "      <td>2</td>\n",
       "      <td>34</td>\n",
       "    </tr>\n",
       "  </tbody>\n",
       "</table>\n",
       "</div>"
      ],
      "text/plain": [
       "   EXTRELNO  Incoming  Outgoing\n",
       "0        20         0        49\n",
       "1        35         1        55\n",
       "2        42         1        35\n",
       "3        43         4       108\n",
       "4        60         2        34"
      ]
     },
     "execution_count": 23,
     "metadata": {},
     "output_type": "execute_result"
    }
   ],
   "source": [
    "direction = communication_indep[['EXTRELNO','CONTDIREC']]\n",
    "direction = pd.get_dummies(direction,columns=['CONTDIREC']).reset_index().groupby('EXTRELNO').sum().reset_index().drop(columns=['index']).rename(columns={'CONTDIREC_I':'Incoming','CONTDIREC_O':'Outgoing'})\n",
    "direction.head()"
   ]
  },
  {
   "cell_type": "markdown",
   "metadata": {},
   "source": [
    "Communication times"
   ]
  },
  {
   "cell_type": "code",
   "execution_count": 24,
   "metadata": {},
   "outputs": [
    {
     "data": {
      "text/html": [
       "<div>\n",
       "<style scoped>\n",
       "    .dataframe tbody tr th:only-of-type {\n",
       "        vertical-align: middle;\n",
       "    }\n",
       "\n",
       "    .dataframe tbody tr th {\n",
       "        vertical-align: top;\n",
       "    }\n",
       "\n",
       "    .dataframe thead th {\n",
       "        text-align: right;\n",
       "    }\n",
       "</style>\n",
       "<table border=\"1\" class=\"dataframe\">\n",
       "  <thead>\n",
       "    <tr style=\"text-align: right;\">\n",
       "      <th></th>\n",
       "      <th>EXTRELNO</th>\n",
       "      <th>comu_count</th>\n",
       "    </tr>\n",
       "  </thead>\n",
       "  <tbody>\n",
       "    <tr>\n",
       "      <th>0</th>\n",
       "      <td>181194</td>\n",
       "      <td>707</td>\n",
       "    </tr>\n",
       "    <tr>\n",
       "      <th>1</th>\n",
       "      <td>1773</td>\n",
       "      <td>544</td>\n",
       "    </tr>\n",
       "    <tr>\n",
       "      <th>2</th>\n",
       "      <td>25455</td>\n",
       "      <td>473</td>\n",
       "    </tr>\n",
       "    <tr>\n",
       "      <th>3</th>\n",
       "      <td>35750</td>\n",
       "      <td>434</td>\n",
       "    </tr>\n",
       "    <tr>\n",
       "      <th>4</th>\n",
       "      <td>35231</td>\n",
       "      <td>373</td>\n",
       "    </tr>\n",
       "  </tbody>\n",
       "</table>\n",
       "</div>"
      ],
      "text/plain": [
       "   EXTRELNO  comu_count\n",
       "0    181194         707\n",
       "1      1773         544\n",
       "2     25455         473\n",
       "3     35750         434\n",
       "4     35231         373"
      ]
     },
     "execution_count": 24,
     "metadata": {},
     "output_type": "execute_result"
    }
   ],
   "source": [
    "# communication times\n",
    "comunication_num = communication_indep[['EXTRELNO']].value_counts().reset_index().rename(columns={'count':'comu_count'})\n",
    "comunication_num.head()"
   ]
  },
  {
   "cell_type": "markdown",
   "metadata": {},
   "source": [
    "(3) User table: Extrel\n",
    "- Nameaddr: Socio-demographical information"
   ]
  },
  {
   "cell_type": "code",
   "execution_count": 26,
   "metadata": {},
   "outputs": [
    {
     "name": "stdout",
     "output_type": "stream",
     "text": [
      "       EXTRELNO NAME1TITLE POSTCODE LANGUACODE\n",
      "0            19         HR     2500         NL\n",
      "1            20         HR     9550         NL\n",
      "2            35         HM     2150         NL\n",
      "3            42         FA     3012         NL\n",
      "4            43         MW     3000         NL\n",
      "...         ...        ...      ...        ...\n",
      "24181    245025         MW     1500         NL\n",
      "24182    245029         MW     9810         NL\n",
      "24183    245032         MW     2940         NL\n",
      "24184    245046         FA     9470         NL\n",
      "24185    245048         MW     8700         NL\n",
      "\n",
      "[24186 rows x 4 columns]\n"
     ]
    }
   ],
   "source": [
    "print(nameaddr)"
   ]
  },
  {
   "cell_type": "markdown",
   "metadata": {},
   "source": [
    "Language"
   ]
  },
  {
   "cell_type": "code",
   "execution_count": 74,
   "metadata": {},
   "outputs": [],
   "source": [
    "#check unique language\n",
    "nameaddr['LANGUACODE'].unique()\n",
    "\n",
    "# extract language table\n",
    "language = nameaddr[['EXTRELNO','LANGUACODE']]"
   ]
  },
  {
   "cell_type": "markdown",
   "metadata": {},
   "source": [
    "Postcode\n"
   ]
  },
  {
   "cell_type": "code",
   "execution_count": 71,
   "metadata": {},
   "outputs": [],
   "source": [
    "# extract postcode\n",
    "postcode = nameaddr[['EXTRELNO','POSTCODE']]\n",
    "\n",
    "# extract the first two digits\n",
    "postcode['first_digits'] = postcode['POSTCODE'].str[0:2]\n"
   ]
  },
  {
   "cell_type": "code",
   "execution_count": 75,
   "metadata": {},
   "outputs": [],
   "source": [
    "# Define the function to determine the province based on postcode\n",
    "def get_province(a):\n",
    "    try:\n",
    "        # Convert to integer\n",
    "        a = int(a)\n",
    "    except (ValueError, TypeError):\n",
    "        # If conversion fails, return 'unknown'\n",
    "        return 'unknown'\n",
    "    \n",
    "    # Check ranges to determine the province\n",
    "    if a in range(11, 12):\n",
    "        return 'Brussels Capital Region'\n",
    "    elif a in [13, 14]:\n",
    "        return 'Walloon Brabant'\n",
    "    elif a in list(range(15, 19)) + list(range(30, 34)):\n",
    "        return 'Flemish Brabant'\n",
    "    elif a in range(20, 29):\n",
    "        return 'Antwerp'\n",
    "    elif a in range(35, 39):\n",
    "        return 'Limburg'\n",
    "    elif a in range(40, 49):\n",
    "        return 'Liège'\n",
    "    elif a in range(50, 59):\n",
    "        return 'Namur'\n",
    "    elif a in list(range(60, 65)) + list(range(70, 79)):\n",
    "        return 'Hainaut'\n",
    "    elif a in range(66, 69):\n",
    "        return 'Luxembourg'\n",
    "    elif a in range(80, 89):\n",
    "        return 'West Flanders'\n",
    "    elif a in range(90, 99):\n",
    "        return 'East Flanders'\n",
    "    else:\n",
    "        return 'unknown'  # Handle cases where postcode doesn't match any region\n",
    "\n",
    "# Apply the function to determine the province\n",
    "postcode['province'] = postcode['first_digits'].apply(get_province)\n",
    "\n",
    "# drop columns\n",
    "postcode = postcode.drop(columns=['first_digits','POSTCODE'])"
   ]
  },
  {
   "cell_type": "markdown",
   "metadata": {},
   "source": [
    "Basetable"
   ]
  },
  {
   "cell_type": "code",
   "execution_count": 80,
   "metadata": {},
   "outputs": [],
   "source": [
    "# merge all feature tables\n",
    "basetable = active_customers[['EXTRELNO','Churn']].merge(\n",
    "                                      Recency, how='inner',on='EXTRELNO').merge(\n",
    "                                      Monetary,how='inner',on='EXTRELNO').merge(\n",
    "                                      Frequency,how='inner',on='EXTRELNO').merge(\n",
    "                                      paytype,how='inner',on='EXTRELNO').merge(\n",
    "                                      medium_cat,how='inner',on='EXTRELNO').merge(\n",
    "                                      complaint,how='inner',on='EXTRELNO').merge(\n",
    "                                      direction,how='inner',on='EXTRELNO').merge(\n",
    "                                      comunication_num,how='inner',on='EXTRELNO').merge(\n",
    "                                      language,how='inner',on='EXTRELNO').merge(\n",
    "                                      postcode, how='inner',on='EXTRELNO')\n",
    "\n",
    "#show\n",
    "basetable.head()\n",
    "\n",
    "# save the basetable\n",
    "basetable.to_csv('./basetable_churn.csv')"
   ]
  }
 ],
 "metadata": {
  "kernelspec": {
   "display_name": "base",
   "language": "python",
   "name": "python3"
  },
  "language_info": {
   "codemirror_mode": {
    "name": "ipython",
    "version": 3
   },
   "file_extension": ".py",
   "mimetype": "text/x-python",
   "name": "python",
   "nbconvert_exporter": "python",
   "pygments_lexer": "ipython3",
   "version": "3.9.19"
  }
 },
 "nbformat": 4,
 "nbformat_minor": 2
}
